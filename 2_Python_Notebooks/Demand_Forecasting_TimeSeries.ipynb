{
 "cells": [
  {
   "cell_type": "code",
   "execution_count": null,
   "id": "a2682a65-8005-451d-8f2d-2e463560bda3",
   "metadata": {},
   "outputs": [],
   "source": [
    "# Demand Forecasting using ARIMA\n",
    "\n",
    "import pandas as pd\n",
    "import matplotlib.pyplot as plt\n",
    "from statsmodels.tsa.arima.model import ARIMA\n",
    "\n",
    "# Load data (replace with your dataset)\n",
    "df = pd.read_csv('demand_data.csv')  # columns: date, demand\n",
    "df['date'] = pd.to_datetime(df['date'])\n",
    "df.set_index('date', inplace=True)\n",
    "\n",
    "# Train-test split\n",
    "train = df.iloc[:-12]\n",
    "test = df.iloc[-12:]\n",
    "\n",
    "# ARIMA model\n",
    "model = ARIMA(train['demand'], order=(2,1,2))\n",
    "model_fit = model.fit()\n",
    "forecast = model_fit.forecast(steps=12)\n",
    "\n",
    "# Plot forecast\n",
    "plt.figure(figsize=(10,5))\n",
    "plt.plot(train.index, train['demand'], label='Train')\n",
    "plt.plot(test.index, test['demand'], label='Test')\n",
    "plt.plot(test.index, forecast, label='Forecast')\n",
    "plt.title('Demand Forecasting using ARIMA')\n",
    "plt.legend()\n",
    "plt.show()\n"
   ]
  }
 ],
 "metadata": {
  "kernelspec": {
   "display_name": "Python [conda env:base] *",
   "language": "python",
   "name": "conda-base-py"
  },
  "language_info": {
   "codemirror_mode": {
    "name": "ipython",
    "version": 3
   },
   "file_extension": ".py",
   "mimetype": "text/x-python",
   "name": "python",
   "nbconvert_exporter": "python",
   "pygments_lexer": "ipython3",
   "version": "3.12.7"
  }
 },
 "nbformat": 4,
 "nbformat_minor": 5
}
