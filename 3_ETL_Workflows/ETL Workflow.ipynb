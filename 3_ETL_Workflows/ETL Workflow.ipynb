{
 "cells": [
  {
   "cell_type": "code",
   "execution_count": 3,
   "id": "ef73fba8-ef22-47f1-89b5-be8de0d5b374",
   "metadata": {},
   "outputs": [
    {
     "name": "stdout",
     "output_type": "stream",
     "text": [
      "sales_data.csv created\n",
      "customer_data.json created\n"
     ]
    }
   ],
   "source": [
    "import pandas as pd\n",
    "import json\n",
    "\n",
    "# Create sales_data.csv\n",
    "sales_data = {\n",
    "    \"customer_id\": [101, 102, 103, 104, 105],\n",
    "    \"sales_amount\": [250, 300, 150, 400, 220],\n",
    "    \"region\": [\"North\", \"South\", \"East\", \"West\", \"North\"]\n",
    "}\n",
    "sales_df = pd.DataFrame(sales_data)\n",
    "sales_df.to_csv(\"sales_data.csv\", index=False)\n",
    "print(\"sales_data.csv created\")\n",
    "\n",
    "# Create customer_data.json\n",
    "customer_data = [\n",
    "    {\"customer_id\": 101, \"customer_name\": \"John Doe\"},\n",
    "    {\"customer_id\": 102, \"customer_name\": \"Jane Smith\"},\n",
    "    {\"customer_id\": 103, \"customer_name\": \"Michael Lee\"},\n",
    "    {\"customer_id\": 104, \"customer_name\": \"Emily Davis\"},\n",
    "    {\"customer_id\": 105, \"customer_name\": \"David Clark\"}\n",
    "]\n",
    "with open(\"customer_data.json\", \"w\") as f:\n",
    "    json.dump(customer_data, f, indent=4)\n",
    "print(\"customer_data.json created\")\n",
    "\n"
   ]
  },
  {
   "cell_type": "code",
   "execution_count": 5,
   "id": "6ad14799-7307-4253-a154-becb80d86ad7",
   "metadata": {},
   "outputs": [
    {
     "name": "stdout",
     "output_type": "stream",
     "text": [
      "ETL Pipeline Completed - staging_region_summary.parquet created for Snowflake\n"
     ]
    }
   ],
   "source": [
    "# Databricks ETL Simulation - Multi-source Integration to Snowflake Staging\n",
    "\n",
    "import pandas as pd\n",
    "\n",
    "# Step 1: Extract data from multiple sources\n",
    "csv_data = pd.read_csv('sales_data.csv')  # Sales data\n",
    "json_data = pd.read_json('customer_data.json')  # Customer data\n",
    "\n",
    "# Step 2: Merge datasets on customer_id\n",
    "merged_data = pd.merge(csv_data, json_data, on='customer_id', how='inner')\n",
    "\n",
    "# Step 3: Data cleaning\n",
    "merged_data['sales_amount'] = merged_data['sales_amount'].fillna(0)\n",
    "merged_data['region'] = merged_data['region'].str.upper()\n",
    "\n",
    "# Step 4: Transformation - calculate total revenue by region\n",
    "region_summary = merged_data.groupby('region')['sales_amount'].sum().reset_index()\n",
    "\n",
    "# Step 5: Save to staging format for Snowflake\n",
    "region_summary.to_parquet('staging_region_summary.parquet', index=False)\n",
    "\n",
    "print(\"ETL Pipeline Completed - staging_region_summary.parquet created for Snowflake\")\n"
   ]
  },
  {
   "cell_type": "code",
   "execution_count": null,
   "id": "ad58579e-635b-44fd-a224-2c69a68918dd",
   "metadata": {},
   "outputs": [],
   "source": []
  }
 ],
 "metadata": {
  "kernelspec": {
   "display_name": "Python [conda env:base] *",
   "language": "python",
   "name": "conda-base-py"
  },
  "language_info": {
   "codemirror_mode": {
    "name": "ipython",
    "version": 3
   },
   "file_extension": ".py",
   "mimetype": "text/x-python",
   "name": "python",
   "nbconvert_exporter": "python",
   "pygments_lexer": "ipython3",
   "version": "3.12.7"
  }
 },
 "nbformat": 4,
 "nbformat_minor": 5
}
